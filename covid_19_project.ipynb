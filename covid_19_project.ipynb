{
 "cells": [
  {
   "cell_type": "code",
   "execution_count": 1,
   "metadata": {},
   "outputs": [
    {
     "data": {
      "text/html": [
       "<div>\n",
       "<style scoped>\n",
       "    .dataframe tbody tr th:only-of-type {\n",
       "        vertical-align: middle;\n",
       "    }\n",
       "\n",
       "    .dataframe tbody tr th {\n",
       "        vertical-align: top;\n",
       "    }\n",
       "\n",
       "    .dataframe thead th {\n",
       "        text-align: right;\n",
       "    }\n",
       "</style>\n",
       "<table border=\"1\" class=\"dataframe\">\n",
       "  <thead>\n",
       "    <tr style=\"text-align: right;\">\n",
       "      <th></th>\n",
       "      <th>01-10-2020</th>\n",
       "      <th>8:00 AM</th>\n",
       "      <th>Andaman and Nicobar Islands</th>\n",
       "      <th>3608</th>\n",
       "      <th>53</th>\n",
       "      <th>3835</th>\n",
       "    </tr>\n",
       "  </thead>\n",
       "  <tbody>\n",
       "    <tr>\n",
       "      <th>0</th>\n",
       "      <td>01-10-2020</td>\n",
       "      <td>8:00 AM</td>\n",
       "      <td>Andhra Pradesh</td>\n",
       "      <td>629211.0</td>\n",
       "      <td>5828.0</td>\n",
       "      <td>693484.0</td>\n",
       "    </tr>\n",
       "    <tr>\n",
       "      <th>1</th>\n",
       "      <td>01-10-2020</td>\n",
       "      <td>8:00 AM</td>\n",
       "      <td>Arunachal Pradesh</td>\n",
       "      <td>6890.0</td>\n",
       "      <td>16.0</td>\n",
       "      <td>9796.0</td>\n",
       "    </tr>\n",
       "    <tr>\n",
       "      <th>2</th>\n",
       "      <td>01-10-2020</td>\n",
       "      <td>8:00 AM</td>\n",
       "      <td>Assam</td>\n",
       "      <td>145618.0</td>\n",
       "      <td>697.0</td>\n",
       "      <td>180811.0</td>\n",
       "    </tr>\n",
       "    <tr>\n",
       "      <th>3</th>\n",
       "      <td>01-10-2020</td>\n",
       "      <td>8:00 AM</td>\n",
       "      <td>Bihar</td>\n",
       "      <td>169732.0</td>\n",
       "      <td>904.0</td>\n",
       "      <td>182728.0</td>\n",
       "    </tr>\n",
       "    <tr>\n",
       "      <th>4</th>\n",
       "      <td>01-10-2020</td>\n",
       "      <td>8:00 AM</td>\n",
       "      <td>Chandigarh</td>\n",
       "      <td>9813.0</td>\n",
       "      <td>162.0</td>\n",
       "      <td>11938.0</td>\n",
       "    </tr>\n",
       "  </tbody>\n",
       "</table>\n",
       "</div>"
      ],
      "text/plain": [
       "   01-10-2020  8:00 AM Andaman and Nicobar Islands      3608      53      3835\n",
       "0  01-10-2020  8:00 AM              Andhra Pradesh  629211.0  5828.0  693484.0\n",
       "1  01-10-2020  8:00 AM           Arunachal Pradesh    6890.0    16.0    9796.0\n",
       "2  01-10-2020  8:00 AM                       Assam  145618.0   697.0  180811.0\n",
       "3  01-10-2020  8:00 AM                       Bihar  169732.0   904.0  182728.0\n",
       "4  01-10-2020  8:00 AM                  Chandigarh    9813.0   162.0   11938.0"
      ]
     },
     "execution_count": 1,
     "metadata": {},
     "output_type": "execute_result"
    }
   ],
   "source": [
    "import pandas as pd\n",
    "\n",
    "df = pd.read_csv(\"covid_19_india.csv\")\n",
    "df.head()"
   ]
  },
  {
   "cell_type": "code",
   "execution_count": 2,
   "metadata": {
    "scrolled": true
   },
   "outputs": [
    {
     "data": {
      "text/html": [
       "<div>\n",
       "<style scoped>\n",
       "    .dataframe tbody tr th:only-of-type {\n",
       "        vertical-align: middle;\n",
       "    }\n",
       "\n",
       "    .dataframe tbody tr th {\n",
       "        vertical-align: top;\n",
       "    }\n",
       "\n",
       "    .dataframe thead th {\n",
       "        text-align: right;\n",
       "    }\n",
       "</style>\n",
       "<table border=\"1\" class=\"dataframe\">\n",
       "  <thead>\n",
       "    <tr style=\"text-align: right;\">\n",
       "      <th></th>\n",
       "      <th>date</th>\n",
       "      <th>time</th>\n",
       "      <th>state</th>\n",
       "      <th>cured</th>\n",
       "      <th>death</th>\n",
       "      <th>total</th>\n",
       "    </tr>\n",
       "  </thead>\n",
       "  <tbody>\n",
       "    <tr>\n",
       "      <th>0</th>\n",
       "      <td>07-10-2020</td>\n",
       "      <td>8:00 AM</td>\n",
       "      <td>Andaman and Nicobar Islands</td>\n",
       "      <td>3678.0</td>\n",
       "      <td>54.0</td>\n",
       "      <td>3912.0</td>\n",
       "    </tr>\n",
       "    <tr>\n",
       "      <th>1</th>\n",
       "      <td>07-10-2020</td>\n",
       "      <td>8:00 AM</td>\n",
       "      <td>Andhra Pradesh</td>\n",
       "      <td>672479.0</td>\n",
       "      <td>6052.0</td>\n",
       "      <td>729307.0</td>\n",
       "    </tr>\n",
       "    <tr>\n",
       "      <th>2</th>\n",
       "      <td>07-10-2020</td>\n",
       "      <td>8:00 AM</td>\n",
       "      <td>Arunachal Pradesh</td>\n",
       "      <td>7965.0</td>\n",
       "      <td>20.0</td>\n",
       "      <td>11007.0</td>\n",
       "    </tr>\n",
       "    <tr>\n",
       "      <th>3</th>\n",
       "      <td>07-10-2020</td>\n",
       "      <td>8:00 AM</td>\n",
       "      <td>Assam</td>\n",
       "      <td>155077.0</td>\n",
       "      <td>778.0</td>\n",
       "      <td>188902.0</td>\n",
       "    </tr>\n",
       "    <tr>\n",
       "      <th>4</th>\n",
       "      <td>07-10-2020</td>\n",
       "      <td>8:00 AM</td>\n",
       "      <td>Bihar</td>\n",
       "      <td>178395.0</td>\n",
       "      <td>925.0</td>\n",
       "      <td>190740.0</td>\n",
       "    </tr>\n",
       "  </tbody>\n",
       "</table>\n",
       "</div>"
      ],
      "text/plain": [
       "         date     time                        state     cured   death  \\\n",
       "0  07-10-2020  8:00 AM  Andaman and Nicobar Islands    3678.0    54.0   \n",
       "1  07-10-2020  8:00 AM               Andhra Pradesh  672479.0  6052.0   \n",
       "2  07-10-2020  8:00 AM            Arunachal Pradesh    7965.0    20.0   \n",
       "3  07-10-2020  8:00 AM                        Assam  155077.0   778.0   \n",
       "4  07-10-2020  8:00 AM                        Bihar  178395.0   925.0   \n",
       "\n",
       "      total  \n",
       "0    3912.0  \n",
       "1  729307.0  \n",
       "2   11007.0  \n",
       "3  188902.0  \n",
       "4  190740.0  "
      ]
     },
     "execution_count": 2,
     "metadata": {},
     "output_type": "execute_result"
    }
   ],
   "source": [
    "import pandas as pd\n",
    "\n",
    "df = pd.read_csv(\"covid_19_india.csv\")\n",
    "df.head()\n"
   ]
  },
  {
   "cell_type": "code",
   "execution_count": 3,
   "metadata": {},
   "outputs": [
    {
     "name": "stdout",
     "output_type": "stream",
     "text": [
      "163946.32902499998\n"
     ]
    }
   ],
   "source": [
    "average = df['cured'].mean()\n",
    "print(average)\n"
   ]
  },
  {
   "cell_type": "code",
   "execution_count": 4,
   "metadata": {},
   "outputs": [
    {
     "name": "stdout",
     "output_type": "stream",
     "text": [
      "241177.24244667927\n"
     ]
    }
   ],
   "source": [
    "\n",
    "standard_deviation = df['cured'].std()\n",
    "print(standard_deviation)"
   ]
  },
  {
   "cell_type": "code",
   "execution_count": 6,
   "metadata": {},
   "outputs": [
    {
     "name": "stdout",
     "output_type": "stream",
     "text": [
      "2985.0180272222224\n"
     ]
    }
   ],
   "source": [
    "average = df['death'].mean()\n",
    "print(average)"
   ]
  },
  {
   "cell_type": "code",
   "execution_count": 7,
   "metadata": {},
   "outputs": [
    {
     "name": "stdout",
     "output_type": "stream",
     "text": [
      "6664.237010389703\n"
     ]
    }
   ],
   "source": [
    "standard_deviation = df['death'].std()\n",
    "print(standard_deviation)"
   ]
  },
  {
   "cell_type": "code",
   "execution_count": 10,
   "metadata": {},
   "outputs": [
    {
     "data": {
      "text/html": [
       "<div>\n",
       "<style scoped>\n",
       "    .dataframe tbody tr th:only-of-type {\n",
       "        vertical-align: middle;\n",
       "    }\n",
       "\n",
       "    .dataframe tbody tr th {\n",
       "        vertical-align: top;\n",
       "    }\n",
       "\n",
       "    .dataframe thead th {\n",
       "        text-align: right;\n",
       "    }\n",
       "</style>\n",
       "<table border=\"1\" class=\"dataframe\">\n",
       "  <thead>\n",
       "    <tr style=\"text-align: right;\">\n",
       "      <th></th>\n",
       "      <th>date</th>\n",
       "      <th>time</th>\n",
       "      <th>state</th>\n",
       "      <th>cured</th>\n",
       "      <th>death</th>\n",
       "      <th>confirmed</th>\n",
       "    </tr>\n",
       "  </thead>\n",
       "  <tbody>\n",
       "    <tr>\n",
       "      <th>0</th>\n",
       "      <td>07-10-2020</td>\n",
       "      <td>8:00 AM</td>\n",
       "      <td>Andaman and Nicobar Islands</td>\n",
       "      <td>3678.0</td>\n",
       "      <td>54.0</td>\n",
       "      <td>3912.0</td>\n",
       "    </tr>\n",
       "    <tr>\n",
       "      <th>1</th>\n",
       "      <td>07-10-2020</td>\n",
       "      <td>8:00 AM</td>\n",
       "      <td>Andhra Pradesh</td>\n",
       "      <td>672479.0</td>\n",
       "      <td>6052.0</td>\n",
       "      <td>729307.0</td>\n",
       "    </tr>\n",
       "    <tr>\n",
       "      <th>2</th>\n",
       "      <td>07-10-2020</td>\n",
       "      <td>8:00 AM</td>\n",
       "      <td>Arunachal Pradesh</td>\n",
       "      <td>7965.0</td>\n",
       "      <td>20.0</td>\n",
       "      <td>11007.0</td>\n",
       "    </tr>\n",
       "    <tr>\n",
       "      <th>3</th>\n",
       "      <td>07-10-2020</td>\n",
       "      <td>8:00 AM</td>\n",
       "      <td>Assam</td>\n",
       "      <td>155077.0</td>\n",
       "      <td>778.0</td>\n",
       "      <td>188902.0</td>\n",
       "    </tr>\n",
       "    <tr>\n",
       "      <th>4</th>\n",
       "      <td>07-10-2020</td>\n",
       "      <td>8:00 AM</td>\n",
       "      <td>Bihar</td>\n",
       "      <td>178395.0</td>\n",
       "      <td>925.0</td>\n",
       "      <td>190740.0</td>\n",
       "    </tr>\n",
       "  </tbody>\n",
       "</table>\n",
       "</div>"
      ],
      "text/plain": [
       "         date     time                        state     cured   death  \\\n",
       "0  07-10-2020  8:00 AM  Andaman and Nicobar Islands    3678.0    54.0   \n",
       "1  07-10-2020  8:00 AM               Andhra Pradesh  672479.0  6052.0   \n",
       "2  07-10-2020  8:00 AM            Arunachal Pradesh    7965.0    20.0   \n",
       "3  07-10-2020  8:00 AM                        Assam  155077.0   778.0   \n",
       "4  07-10-2020  8:00 AM                        Bihar  178395.0   925.0   \n",
       "\n",
       "   confirmed  \n",
       "0     3912.0  \n",
       "1   729307.0  \n",
       "2    11007.0  \n",
       "3   188902.0  \n",
       "4   190740.0  "
      ]
     },
     "execution_count": 10,
     "metadata": {},
     "output_type": "execute_result"
    }
   ],
   "source": [
    "import pandas as pd\n",
    "\n",
    "df = pd.read_csv(\"statewise - cured_death_confirmed.csv\")\n",
    "df.head()"
   ]
  },
  {
   "cell_type": "code",
   "execution_count": 11,
   "metadata": {},
   "outputs": [
    {
     "name": "stdout",
     "output_type": "stream",
     "text": [
      "288332.1104817856\n"
     ]
    }
   ],
   "source": [
    "standard_deviation = df['confirmed'].std()\n",
    "print(standard_deviation)"
   ]
  },
  {
   "cell_type": "code",
   "execution_count": 12,
   "metadata": {},
   "outputs": [
    {
     "name": "stdout",
     "output_type": "stream",
     "text": [
      "192890.32789166667\n"
     ]
    }
   ],
   "source": [
    "average = df['confirmed'].mean()\n",
    "print(average)"
   ]
  },
  {
   "cell_type": "code",
   "execution_count": 13,
   "metadata": {},
   "outputs": [
    {
     "name": "stdout",
     "output_type": "stream",
     "text": [
      "1465911.0\n"
     ]
    }
   ],
   "source": [
    "print(df['confirmed'].max())"
   ]
  },
  {
   "cell_type": "code",
   "execution_count": 14,
   "metadata": {},
   "outputs": [
    {
     "data": {
      "text/html": [
       "<div>\n",
       "<style scoped>\n",
       "    .dataframe tbody tr th:only-of-type {\n",
       "        vertical-align: middle;\n",
       "    }\n",
       "\n",
       "    .dataframe tbody tr th {\n",
       "        vertical-align: top;\n",
       "    }\n",
       "\n",
       "    .dataframe thead th {\n",
       "        text-align: right;\n",
       "    }\n",
       "</style>\n",
       "<table border=\"1\" class=\"dataframe\">\n",
       "  <thead>\n",
       "    <tr style=\"text-align: right;\">\n",
       "      <th></th>\n",
       "      <th>date</th>\n",
       "      <th>time</th>\n",
       "      <th>state</th>\n",
       "      <th>cured</th>\n",
       "      <th>death</th>\n",
       "      <th>confirmed</th>\n",
       "      <th>recovery_rate</th>\n",
       "    </tr>\n",
       "  </thead>\n",
       "  <tbody>\n",
       "    <tr>\n",
       "      <th>0</th>\n",
       "      <td>07-10-2020</td>\n",
       "      <td>8:00 AM</td>\n",
       "      <td>Andaman and Nicobar Islands</td>\n",
       "      <td>3678.0</td>\n",
       "      <td>54.0</td>\n",
       "      <td>3912.0</td>\n",
       "      <td>0.940184</td>\n",
       "    </tr>\n",
       "    <tr>\n",
       "      <th>1</th>\n",
       "      <td>07-10-2020</td>\n",
       "      <td>8:00 AM</td>\n",
       "      <td>Andhra Pradesh</td>\n",
       "      <td>672479.0</td>\n",
       "      <td>6052.0</td>\n",
       "      <td>729307.0</td>\n",
       "      <td>0.922079</td>\n",
       "    </tr>\n",
       "    <tr>\n",
       "      <th>2</th>\n",
       "      <td>07-10-2020</td>\n",
       "      <td>8:00 AM</td>\n",
       "      <td>Arunachal Pradesh</td>\n",
       "      <td>7965.0</td>\n",
       "      <td>20.0</td>\n",
       "      <td>11007.0</td>\n",
       "      <td>0.723630</td>\n",
       "    </tr>\n",
       "    <tr>\n",
       "      <th>3</th>\n",
       "      <td>07-10-2020</td>\n",
       "      <td>8:00 AM</td>\n",
       "      <td>Assam</td>\n",
       "      <td>155077.0</td>\n",
       "      <td>778.0</td>\n",
       "      <td>188902.0</td>\n",
       "      <td>0.820939</td>\n",
       "    </tr>\n",
       "    <tr>\n",
       "      <th>4</th>\n",
       "      <td>07-10-2020</td>\n",
       "      <td>8:00 AM</td>\n",
       "      <td>Bihar</td>\n",
       "      <td>178395.0</td>\n",
       "      <td>925.0</td>\n",
       "      <td>190740.0</td>\n",
       "      <td>0.935278</td>\n",
       "    </tr>\n",
       "  </tbody>\n",
       "</table>\n",
       "</div>"
      ],
      "text/plain": [
       "         date     time                        state     cured   death  \\\n",
       "0  07-10-2020  8:00 AM  Andaman and Nicobar Islands    3678.0    54.0   \n",
       "1  07-10-2020  8:00 AM               Andhra Pradesh  672479.0  6052.0   \n",
       "2  07-10-2020  8:00 AM            Arunachal Pradesh    7965.0    20.0   \n",
       "3  07-10-2020  8:00 AM                        Assam  155077.0   778.0   \n",
       "4  07-10-2020  8:00 AM                        Bihar  178395.0   925.0   \n",
       "\n",
       "   confirmed  recovery_rate  \n",
       "0     3912.0       0.940184  \n",
       "1   729307.0       0.922079  \n",
       "2    11007.0       0.723630  \n",
       "3   188902.0       0.820939  \n",
       "4   190740.0       0.935278  "
      ]
     },
     "execution_count": 14,
     "metadata": {},
     "output_type": "execute_result"
    }
   ],
   "source": [
    "df[\"recovery_rate\"] = \\\n",
    "df['cured'] / df['confirmed']\n",
    "\n",
    "df.head()"
   ]
  },
  {
   "cell_type": "code",
   "execution_count": 15,
   "metadata": {},
   "outputs": [
    {
     "name": "stdout",
     "output_type": "stream",
     "text": [
      "0.8387030139799534\n"
     ]
    }
   ],
   "source": [
    "average = df['recovery_rate'].mean()\n",
    "print(average)"
   ]
  },
  {
   "cell_type": "code",
   "execution_count": 16,
   "metadata": {},
   "outputs": [
    {
     "name": "stdout",
     "output_type": "stream",
     "text": [
      "0.9668063164679342\n"
     ]
    }
   ],
   "source": [
    "print(df['recovery_rate'].max())"
   ]
  },
  {
   "cell_type": "code",
   "execution_count": 17,
   "metadata": {},
   "outputs": [
    {
     "data": {
      "text/plain": [
       "'Dadra and Nagar Haveli and Daman and Diu'"
      ]
     },
     "execution_count": 17,
     "metadata": {},
     "output_type": "execute_result"
    }
   ],
   "source": [
    "df.loc[df['recovery_rate'] == 0.9668063164679342, 'state'].iloc[0]"
   ]
  },
  {
   "cell_type": "code",
   "execution_count": 18,
   "metadata": {},
   "outputs": [
    {
     "name": "stdout",
     "output_type": "stream",
     "text": [
      "0.6346484128847318\n"
     ]
    }
   ],
   "source": [
    "print(df['recovery_rate'].min())"
   ]
  },
  {
   "cell_type": "code",
   "execution_count": 20,
   "metadata": {},
   "outputs": [
    {
     "data": {
      "text/plain": [
       "'Kerala'"
      ]
     },
     "execution_count": 20,
     "metadata": {},
     "output_type": "execute_result"
    }
   ],
   "source": [
    "df.loc[df['recovery_rate'] == 0.6346484128847318, 'state'].iloc[0]"
   ]
  },
  {
   "cell_type": "code",
   "execution_count": 21,
   "metadata": {},
   "outputs": [
    {
     "name": "stdout",
     "output_type": "stream",
     "text": [
      "0.07245361669793189\n"
     ]
    }
   ],
   "source": [
    "standard_deviation = df['recovery_rate'].std()\n",
    "print(standard_deviation)"
   ]
  },
  {
   "cell_type": "code",
   "execution_count": 22,
   "metadata": {},
   "outputs": [
    {
     "name": "stdout",
     "output_type": "stream",
     "text": [
      "1465911.0\n"
     ]
    }
   ],
   "source": [
    "print(df['confirmed'].max())"
   ]
  },
  {
   "cell_type": "code",
   "execution_count": 23,
   "metadata": {},
   "outputs": [
    {
     "data": {
      "text/plain": [
       "'Maharashtra'"
      ]
     },
     "execution_count": 23,
     "metadata": {},
     "output_type": "execute_result"
    }
   ],
   "source": [
    "df.loc[df['confirmed'] == 1465911.0, 'state'].iloc[0]"
   ]
  },
  {
   "cell_type": "code",
   "execution_count": 24,
   "metadata": {},
   "outputs": [
    {
     "name": "stdout",
     "output_type": "stream",
     "text": [
      "2148.0\n"
     ]
    }
   ],
   "source": [
    "print(df['confirmed'].min())"
   ]
  },
  {
   "cell_type": "code",
   "execution_count": 28,
   "metadata": {},
   "outputs": [
    {
     "data": {
      "text/html": [
       "<div>\n",
       "<style scoped>\n",
       "    .dataframe tbody tr th:only-of-type {\n",
       "        vertical-align: middle;\n",
       "    }\n",
       "\n",
       "    .dataframe tbody tr th {\n",
       "        vertical-align: top;\n",
       "    }\n",
       "\n",
       "    .dataframe thead th {\n",
       "        text-align: right;\n",
       "    }\n",
       "</style>\n",
       "<table border=\"1\" class=\"dataframe\">\n",
       "  <thead>\n",
       "    <tr style=\"text-align: right;\">\n",
       "      <th></th>\n",
       "      <th>date</th>\n",
       "      <th>time</th>\n",
       "      <th>state</th>\n",
       "      <th>cured</th>\n",
       "      <th>death</th>\n",
       "      <th>confirmed</th>\n",
       "      <th>recovery_rate</th>\n",
       "      <th>death_rate</th>\n",
       "    </tr>\n",
       "  </thead>\n",
       "  <tbody>\n",
       "    <tr>\n",
       "      <th>0</th>\n",
       "      <td>07-10-2020</td>\n",
       "      <td>8:00 AM</td>\n",
       "      <td>Andaman and Nicobar Islands</td>\n",
       "      <td>3678.0</td>\n",
       "      <td>54.0</td>\n",
       "      <td>3912.0</td>\n",
       "      <td>0.940184</td>\n",
       "      <td>0.013804</td>\n",
       "    </tr>\n",
       "    <tr>\n",
       "      <th>1</th>\n",
       "      <td>07-10-2020</td>\n",
       "      <td>8:00 AM</td>\n",
       "      <td>Andhra Pradesh</td>\n",
       "      <td>672479.0</td>\n",
       "      <td>6052.0</td>\n",
       "      <td>729307.0</td>\n",
       "      <td>0.922079</td>\n",
       "      <td>0.008298</td>\n",
       "    </tr>\n",
       "    <tr>\n",
       "      <th>2</th>\n",
       "      <td>07-10-2020</td>\n",
       "      <td>8:00 AM</td>\n",
       "      <td>Arunachal Pradesh</td>\n",
       "      <td>7965.0</td>\n",
       "      <td>20.0</td>\n",
       "      <td>11007.0</td>\n",
       "      <td>0.723630</td>\n",
       "      <td>0.001817</td>\n",
       "    </tr>\n",
       "    <tr>\n",
       "      <th>3</th>\n",
       "      <td>07-10-2020</td>\n",
       "      <td>8:00 AM</td>\n",
       "      <td>Assam</td>\n",
       "      <td>155077.0</td>\n",
       "      <td>778.0</td>\n",
       "      <td>188902.0</td>\n",
       "      <td>0.820939</td>\n",
       "      <td>0.004119</td>\n",
       "    </tr>\n",
       "    <tr>\n",
       "      <th>4</th>\n",
       "      <td>07-10-2020</td>\n",
       "      <td>8:00 AM</td>\n",
       "      <td>Bihar</td>\n",
       "      <td>178395.0</td>\n",
       "      <td>925.0</td>\n",
       "      <td>190740.0</td>\n",
       "      <td>0.935278</td>\n",
       "      <td>0.004850</td>\n",
       "    </tr>\n",
       "  </tbody>\n",
       "</table>\n",
       "</div>"
      ],
      "text/plain": [
       "         date     time                        state     cured   death  \\\n",
       "0  07-10-2020  8:00 AM  Andaman and Nicobar Islands    3678.0    54.0   \n",
       "1  07-10-2020  8:00 AM               Andhra Pradesh  672479.0  6052.0   \n",
       "2  07-10-2020  8:00 AM            Arunachal Pradesh    7965.0    20.0   \n",
       "3  07-10-2020  8:00 AM                        Assam  155077.0   778.0   \n",
       "4  07-10-2020  8:00 AM                        Bihar  178395.0   925.0   \n",
       "\n",
       "   confirmed  recovery_rate  death_rate  \n",
       "0     3912.0       0.940184    0.013804  \n",
       "1   729307.0       0.922079    0.008298  \n",
       "2    11007.0       0.723630    0.001817  \n",
       "3   188902.0       0.820939    0.004119  \n",
       "4   190740.0       0.935278    0.004850  "
      ]
     },
     "execution_count": 28,
     "metadata": {},
     "output_type": "execute_result"
    }
   ],
   "source": [
    "df[\"death_rate\"] = \\\n",
    "df['death'] / df['confirmed']\n",
    "\n",
    "df.head()"
   ]
  },
  {
   "cell_type": "code",
   "execution_count": 29,
   "metadata": {},
   "outputs": [
    {
     "name": "stdout",
     "output_type": "stream",
     "text": [
      "0.011891719022708531\n"
     ]
    }
   ],
   "source": [
    "average = df['death_rate'].mean()\n",
    "print(average)"
   ]
  },
  {
   "cell_type": "code",
   "execution_count": 30,
   "metadata": {},
   "outputs": [
    {
     "name": "stdout",
     "output_type": "stream",
     "text": [
      "0.030654246100519932\n"
     ]
    }
   ],
   "source": [
    "print(df['death_rate'].max())"
   ]
  },
  {
   "cell_type": "code",
   "execution_count": 31,
   "metadata": {},
   "outputs": [
    {
     "data": {
      "text/plain": [
       "'Punjab'"
      ]
     },
     "execution_count": 31,
     "metadata": {},
     "output_type": "execute_result"
    }
   ],
   "source": [
    "df.loc[df['death_rate'] == 0.030654246100519932, 'state'].iloc[0]"
   ]
  },
  {
   "cell_type": "code",
   "execution_count": 32,
   "metadata": {},
   "outputs": [
    {
     "name": "stdout",
     "output_type": "stream",
     "text": [
      "0.0\n"
     ]
    }
   ],
   "source": [
    "print(df['death_rate'].min())"
   ]
  },
  {
   "cell_type": "code",
   "execution_count": 33,
   "metadata": {},
   "outputs": [
    {
     "data": {
      "text/plain": [
       "'Mizoram'"
      ]
     },
     "execution_count": 33,
     "metadata": {},
     "output_type": "execute_result"
    }
   ],
   "source": [
    "df.loc[df['death_rate'] == 0.0, 'state'].iloc[0]"
   ]
  },
  {
   "cell_type": "code",
   "execution_count": 34,
   "metadata": {},
   "outputs": [
    {
     "name": "stdout",
     "output_type": "stream",
     "text": [
      "2148.0\n"
     ]
    }
   ],
   "source": [
    "print(df['confirmed'].min())"
   ]
  },
  {
   "cell_type": "code",
   "execution_count": 35,
   "metadata": {},
   "outputs": [
    {
     "name": "stdout",
     "output_type": "stream",
     "text": [
      "0.007164265303694966\n"
     ]
    }
   ],
   "source": [
    "standard_deviation = df['death_rate'].std()\n",
    "print(standard_deviation)"
   ]
  },
  {
   "cell_type": "code",
   "execution_count": 36,
   "metadata": {},
   "outputs": [
    {
     "data": {
      "text/plain": [
       "1273020.67"
      ]
     },
     "execution_count": 36,
     "metadata": {},
     "output_type": "execute_result"
    }
   ],
   "source": [
    "1465911.0-192890.33\n"
   ]
  },
  {
   "cell_type": "code",
   "execution_count": 37,
   "metadata": {},
   "outputs": [
    {
     "data": {
      "text/plain": [
       "-190742.33"
      ]
     },
     "execution_count": 37,
     "metadata": {},
     "output_type": "execute_result"
    }
   ],
   "source": [
    "2148-192890.33"
   ]
  },
  {
   "cell_type": "code",
   "execution_count": 2,
   "metadata": {},
   "outputs": [
    {
     "data": {
      "text/html": [
       "<div>\n",
       "<style scoped>\n",
       "    .dataframe tbody tr th:only-of-type {\n",
       "        vertical-align: middle;\n",
       "    }\n",
       "\n",
       "    .dataframe tbody tr th {\n",
       "        vertical-align: top;\n",
       "    }\n",
       "\n",
       "    .dataframe thead th {\n",
       "        text-align: right;\n",
       "    }\n",
       "</style>\n",
       "<table border=\"1\" class=\"dataframe\">\n",
       "  <thead>\n",
       "    <tr style=\"text-align: right;\">\n",
       "      <th></th>\n",
       "      <th>Month</th>\n",
       "      <th>ConfirmedCases</th>\n",
       "      <th>avg per month</th>\n",
       "      <th>avg per day</th>\n",
       "    </tr>\n",
       "  </thead>\n",
       "  <tbody>\n",
       "    <tr>\n",
       "      <th>0</th>\n",
       "      <td>Jan-31</td>\n",
       "      <td>5.0</td>\n",
       "      <td>5.0</td>\n",
       "      <td>0.161290</td>\n",
       "    </tr>\n",
       "    <tr>\n",
       "      <th>1</th>\n",
       "      <td>Feb-29</td>\n",
       "      <td>7.0</td>\n",
       "      <td>2.0</td>\n",
       "      <td>0.172414</td>\n",
       "    </tr>\n",
       "    <tr>\n",
       "      <th>2</th>\n",
       "      <td>Mar-31</td>\n",
       "      <td>1251.0</td>\n",
       "      <td>1244.0</td>\n",
       "      <td>40.129032</td>\n",
       "    </tr>\n",
       "    <tr>\n",
       "      <th>3</th>\n",
       "      <td>Apr-30</td>\n",
       "      <td>33050.0</td>\n",
       "      <td>31799.0</td>\n",
       "      <td>1059.966667</td>\n",
       "    </tr>\n",
       "    <tr>\n",
       "      <th>4</th>\n",
       "      <td>May-31</td>\n",
       "      <td>182143.0</td>\n",
       "      <td>149093.0</td>\n",
       "      <td>4809.451613</td>\n",
       "    </tr>\n",
       "  </tbody>\n",
       "</table>\n",
       "</div>"
      ],
      "text/plain": [
       "    Month  ConfirmedCases  avg per month  avg per day\n",
       "0  Jan-31             5.0            5.0     0.161290\n",
       "1  Feb-29             7.0            2.0     0.172414\n",
       "2  Mar-31          1251.0         1244.0    40.129032\n",
       "3  Apr-30         33050.0        31799.0  1059.966667\n",
       "4  May-31        182143.0       149093.0  4809.451613"
      ]
     },
     "execution_count": 2,
     "metadata": {},
     "output_type": "execute_result"
    }
   ],
   "source": [
    "import pandas as pd\n",
    "\n",
    "df = pd.read_csv(\"avg_per_month.csv\")\n",
    "df.head()"
   ]
  },
  {
   "cell_type": "code",
   "execution_count": 3,
   "metadata": {},
   "outputs": [
    {
     "name": "stdout",
     "output_type": "stream",
     "text": [
      "691751.4444444445\n"
     ]
    }
   ],
   "source": [
    "average = df['avg per month'].mean()\n",
    "print(average)"
   ]
  },
  {
   "cell_type": "code",
   "execution_count": 5,
   "metadata": {},
   "outputs": [
    {
     "name": "stdout",
     "output_type": "stream",
     "text": [
      "982797.3884691482\n"
     ]
    }
   ],
   "source": [
    "standard_deviation = df['avg per month'].std()\n",
    "print(standard_deviation)"
   ]
  },
  {
   "cell_type": "code",
   "execution_count": 7,
   "metadata": {},
   "outputs": [
    {
     "data": {
      "text/html": [
       "<div>\n",
       "<style scoped>\n",
       "    .dataframe tbody tr th:only-of-type {\n",
       "        vertical-align: middle;\n",
       "    }\n",
       "\n",
       "    .dataframe tbody tr th {\n",
       "        vertical-align: top;\n",
       "    }\n",
       "\n",
       "    .dataframe thead th {\n",
       "        text-align: right;\n",
       "    }\n",
       "</style>\n",
       "<table border=\"1\" class=\"dataframe\">\n",
       "  <thead>\n",
       "    <tr style=\"text-align: right;\">\n",
       "      <th></th>\n",
       "      <th>date</th>\n",
       "      <th>time</th>\n",
       "      <th>state</th>\n",
       "      <th>cured</th>\n",
       "      <th>death</th>\n",
       "      <th>confirmed</th>\n",
       "      <th>recovery rate</th>\n",
       "      <th>death rate</th>\n",
       "      <th>Unnamed: 8</th>\n",
       "      <th>Unnamed: 9</th>\n",
       "      <th>Unnamed: 10</th>\n",
       "      <th>Unnamed: 11</th>\n",
       "    </tr>\n",
       "  </thead>\n",
       "  <tbody>\n",
       "    <tr>\n",
       "      <th>0</th>\n",
       "      <td>07-10-2020</td>\n",
       "      <td>8:00 AM</td>\n",
       "      <td>Andaman and Nicobar Islands</td>\n",
       "      <td>3678</td>\n",
       "      <td>54</td>\n",
       "      <td>3912</td>\n",
       "      <td>0.940184</td>\n",
       "      <td>0.008298</td>\n",
       "      <td>NaN</td>\n",
       "      <td>NaN</td>\n",
       "      <td>NaN</td>\n",
       "      <td>NaN</td>\n",
       "    </tr>\n",
       "    <tr>\n",
       "      <th>1</th>\n",
       "      <td>07-10-2020</td>\n",
       "      <td>8:00 AM</td>\n",
       "      <td>Andhra Pradesh</td>\n",
       "      <td>672479</td>\n",
       "      <td>6052</td>\n",
       "      <td>729307</td>\n",
       "      <td>0.922079</td>\n",
       "      <td>0.001817</td>\n",
       "      <td>NaN</td>\n",
       "      <td>NaN</td>\n",
       "      <td>NaN</td>\n",
       "      <td>NaN</td>\n",
       "    </tr>\n",
       "    <tr>\n",
       "      <th>2</th>\n",
       "      <td>07-10-2020</td>\n",
       "      <td>8:00 AM</td>\n",
       "      <td>Arunachal Pradesh</td>\n",
       "      <td>7965</td>\n",
       "      <td>20</td>\n",
       "      <td>11007</td>\n",
       "      <td>0.723630</td>\n",
       "      <td>0.004119</td>\n",
       "      <td>NaN</td>\n",
       "      <td>NaN</td>\n",
       "      <td>NaN</td>\n",
       "      <td>NaN</td>\n",
       "    </tr>\n",
       "    <tr>\n",
       "      <th>3</th>\n",
       "      <td>07-10-2020</td>\n",
       "      <td>8:00 AM</td>\n",
       "      <td>Assam</td>\n",
       "      <td>155077</td>\n",
       "      <td>778</td>\n",
       "      <td>188902</td>\n",
       "      <td>0.820939</td>\n",
       "      <td>0.004850</td>\n",
       "      <td>NaN</td>\n",
       "      <td>NaN</td>\n",
       "      <td>NaN</td>\n",
       "      <td>NaN</td>\n",
       "    </tr>\n",
       "    <tr>\n",
       "      <th>4</th>\n",
       "      <td>07-10-2020</td>\n",
       "      <td>8:00 AM</td>\n",
       "      <td>Bihar</td>\n",
       "      <td>178395</td>\n",
       "      <td>925</td>\n",
       "      <td>190740</td>\n",
       "      <td>0.935278</td>\n",
       "      <td>0.014165</td>\n",
       "      <td>NaN</td>\n",
       "      <td>NaN</td>\n",
       "      <td>NaN</td>\n",
       "      <td>NaN</td>\n",
       "    </tr>\n",
       "  </tbody>\n",
       "</table>\n",
       "</div>"
      ],
      "text/plain": [
       "         date     time                        state   cured  death  confirmed  \\\n",
       "0  07-10-2020  8:00 AM  Andaman and Nicobar Islands    3678     54       3912   \n",
       "1  07-10-2020  8:00 AM               Andhra Pradesh  672479   6052     729307   \n",
       "2  07-10-2020  8:00 AM            Arunachal Pradesh    7965     20      11007   \n",
       "3  07-10-2020  8:00 AM                        Assam  155077    778     188902   \n",
       "4  07-10-2020  8:00 AM                        Bihar  178395    925     190740   \n",
       "\n",
       "   recovery rate  death rate  Unnamed: 8  Unnamed: 9  Unnamed: 10  Unnamed: 11  \n",
       "0       0.940184    0.008298         NaN         NaN          NaN          NaN  \n",
       "1       0.922079    0.001817         NaN         NaN          NaN          NaN  \n",
       "2       0.723630    0.004119         NaN         NaN          NaN          NaN  \n",
       "3       0.820939    0.004850         NaN         NaN          NaN          NaN  \n",
       "4       0.935278    0.014165         NaN         NaN          NaN          NaN  "
      ]
     },
     "execution_count": 7,
     "metadata": {},
     "output_type": "execute_result"
    }
   ],
   "source": [
    "import pandas as pd\n",
    "\n",
    "df = pd.read_csv(\"statewise - cured_death_confirmed.csv\")\n",
    "df.head()"
   ]
  },
  {
   "cell_type": "code",
   "execution_count": 1,
   "metadata": {},
   "outputs": [
    {
     "data": {
      "text/html": [
       "<div>\n",
       "<style scoped>\n",
       "    .dataframe tbody tr th:only-of-type {\n",
       "        vertical-align: middle;\n",
       "    }\n",
       "\n",
       "    .dataframe tbody tr th {\n",
       "        vertical-align: top;\n",
       "    }\n",
       "\n",
       "    .dataframe thead th {\n",
       "        text-align: right;\n",
       "    }\n",
       "</style>\n",
       "<table border=\"1\" class=\"dataframe\">\n",
       "  <thead>\n",
       "    <tr style=\"text-align: right;\">\n",
       "      <th></th>\n",
       "      <th>Sno</th>\n",
       "      <th>Date</th>\n",
       "      <th>Time</th>\n",
       "      <th>State/UnionTerritory</th>\n",
       "      <th>ConfirmedIndianNational</th>\n",
       "      <th>ConfirmedForeignNational</th>\n",
       "      <th>Cured</th>\n",
       "      <th>Deaths</th>\n",
       "      <th>Confirmed</th>\n",
       "    </tr>\n",
       "  </thead>\n",
       "  <tbody>\n",
       "    <tr>\n",
       "      <th>0</th>\n",
       "      <td>1</td>\n",
       "      <td>30-01-2020</td>\n",
       "      <td>6:00 PM</td>\n",
       "      <td>Kerala</td>\n",
       "      <td>1</td>\n",
       "      <td>0</td>\n",
       "      <td>0</td>\n",
       "      <td>0</td>\n",
       "      <td>1</td>\n",
       "    </tr>\n",
       "    <tr>\n",
       "      <th>1</th>\n",
       "      <td>2</td>\n",
       "      <td>31-01-2020</td>\n",
       "      <td>6:00 PM</td>\n",
       "      <td>Kerala</td>\n",
       "      <td>1</td>\n",
       "      <td>0</td>\n",
       "      <td>0</td>\n",
       "      <td>0</td>\n",
       "      <td>1</td>\n",
       "    </tr>\n",
       "    <tr>\n",
       "      <th>2</th>\n",
       "      <td>3</td>\n",
       "      <td>01-02-2020</td>\n",
       "      <td>6:00 PM</td>\n",
       "      <td>Kerala</td>\n",
       "      <td>2</td>\n",
       "      <td>0</td>\n",
       "      <td>0</td>\n",
       "      <td>0</td>\n",
       "      <td>2</td>\n",
       "    </tr>\n",
       "    <tr>\n",
       "      <th>3</th>\n",
       "      <td>4</td>\n",
       "      <td>02-02-2020</td>\n",
       "      <td>6:00 PM</td>\n",
       "      <td>Kerala</td>\n",
       "      <td>3</td>\n",
       "      <td>0</td>\n",
       "      <td>0</td>\n",
       "      <td>0</td>\n",
       "      <td>3</td>\n",
       "    </tr>\n",
       "    <tr>\n",
       "      <th>4</th>\n",
       "      <td>5</td>\n",
       "      <td>03-02-2020</td>\n",
       "      <td>6:00 PM</td>\n",
       "      <td>Kerala</td>\n",
       "      <td>3</td>\n",
       "      <td>0</td>\n",
       "      <td>0</td>\n",
       "      <td>0</td>\n",
       "      <td>3</td>\n",
       "    </tr>\n",
       "  </tbody>\n",
       "</table>\n",
       "</div>"
      ],
      "text/plain": [
       "   Sno        Date     Time State/UnionTerritory ConfirmedIndianNational  \\\n",
       "0    1  30-01-2020  6:00 PM               Kerala                       1   \n",
       "1    2  31-01-2020  6:00 PM               Kerala                       1   \n",
       "2    3  01-02-2020  6:00 PM               Kerala                       2   \n",
       "3    4  02-02-2020  6:00 PM               Kerala                       3   \n",
       "4    5  03-02-2020  6:00 PM               Kerala                       3   \n",
       "\n",
       "  ConfirmedForeignNational  Cured  Deaths  Confirmed  \n",
       "0                        0      0       0          1  \n",
       "1                        0      0       0          1  \n",
       "2                        0      0       0          2  \n",
       "3                        0      0       0          3  \n",
       "4                        0      0       0          3  "
      ]
     },
     "execution_count": 1,
     "metadata": {},
     "output_type": "execute_result"
    }
   ],
   "source": [
    "import pandas as pd\n",
    "\n",
    "df = pd.read_csv(\"from_first_case_till_date.csv\")\n",
    "df.head()"
   ]
  },
  {
   "cell_type": "code",
   "execution_count": 3,
   "metadata": {},
   "outputs": [
    {
     "name": "stdout",
     "output_type": "stream",
     "text": [
      "45344.94792548688\n"
     ]
    }
   ],
   "source": [
    "average = df['Confirmed'].mean()\n",
    "print(average)"
   ]
  },
  {
   "cell_type": "code",
   "execution_count": 7,
   "metadata": {},
   "outputs": [
    {
     "name": "stdout",
     "output_type": "stream",
     "text": [
      "[1]\n"
     ]
    }
   ],
   "source": [
    "list=[df.loc[df['Date'] == '30-01-2020', 'Confirmed'].iloc[0]]\n",
    "print(list)"
   ]
  },
  {
   "cell_type": "code",
   "execution_count": 2,
   "metadata": {},
   "outputs": [
    {
     "data": {
      "text/html": [
       "<div>\n",
       "<style scoped>\n",
       "    .dataframe tbody tr th:only-of-type {\n",
       "        vertical-align: middle;\n",
       "    }\n",
       "\n",
       "    .dataframe tbody tr th {\n",
       "        vertical-align: top;\n",
       "    }\n",
       "\n",
       "    .dataframe thead th {\n",
       "        text-align: right;\n",
       "    }\n",
       "</style>\n",
       "<table border=\"1\" class=\"dataframe\">\n",
       "  <thead>\n",
       "    <tr style=\"text-align: right;\">\n",
       "      <th></th>\n",
       "      <th>Sno</th>\n",
       "      <th>Date</th>\n",
       "      <th>Time</th>\n",
       "      <th>State/UnionTerritory</th>\n",
       "      <th>ConfirmedIndianNational</th>\n",
       "      <th>ConfirmedForeignNational</th>\n",
       "      <th>Cured</th>\n",
       "      <th>Deaths</th>\n",
       "      <th>Confirmed</th>\n",
       "    </tr>\n",
       "  </thead>\n",
       "  <tbody>\n",
       "    <tr>\n",
       "      <th>0</th>\n",
       "      <td>1</td>\n",
       "      <td>30-01-2020</td>\n",
       "      <td>6:00 PM</td>\n",
       "      <td>Kerala</td>\n",
       "      <td>1</td>\n",
       "      <td>0</td>\n",
       "      <td>0</td>\n",
       "      <td>0</td>\n",
       "      <td>1</td>\n",
       "    </tr>\n",
       "    <tr>\n",
       "      <th>1</th>\n",
       "      <td>2</td>\n",
       "      <td>31-01-2020</td>\n",
       "      <td>6:00 PM</td>\n",
       "      <td>Kerala</td>\n",
       "      <td>1</td>\n",
       "      <td>0</td>\n",
       "      <td>0</td>\n",
       "      <td>0</td>\n",
       "      <td>1</td>\n",
       "    </tr>\n",
       "    <tr>\n",
       "      <th>2</th>\n",
       "      <td>3</td>\n",
       "      <td>01-02-2020</td>\n",
       "      <td>6:00 PM</td>\n",
       "      <td>Kerala</td>\n",
       "      <td>2</td>\n",
       "      <td>0</td>\n",
       "      <td>0</td>\n",
       "      <td>0</td>\n",
       "      <td>2</td>\n",
       "    </tr>\n",
       "    <tr>\n",
       "      <th>3</th>\n",
       "      <td>4</td>\n",
       "      <td>02-02-2020</td>\n",
       "      <td>6:00 PM</td>\n",
       "      <td>Kerala</td>\n",
       "      <td>3</td>\n",
       "      <td>0</td>\n",
       "      <td>0</td>\n",
       "      <td>0</td>\n",
       "      <td>3</td>\n",
       "    </tr>\n",
       "    <tr>\n",
       "      <th>4</th>\n",
       "      <td>5</td>\n",
       "      <td>03-02-2020</td>\n",
       "      <td>6:00 PM</td>\n",
       "      <td>Kerala</td>\n",
       "      <td>3</td>\n",
       "      <td>0</td>\n",
       "      <td>0</td>\n",
       "      <td>0</td>\n",
       "      <td>3</td>\n",
       "    </tr>\n",
       "  </tbody>\n",
       "</table>\n",
       "</div>"
      ],
      "text/plain": [
       "   Sno        Date     Time State/UnionTerritory ConfirmedIndianNational  \\\n",
       "0    1  30-01-2020  6:00 PM               Kerala                       1   \n",
       "1    2  31-01-2020  6:00 PM               Kerala                       1   \n",
       "2    3  01-02-2020  6:00 PM               Kerala                       2   \n",
       "3    4  02-02-2020  6:00 PM               Kerala                       3   \n",
       "4    5  03-02-2020  6:00 PM               Kerala                       3   \n",
       "\n",
       "  ConfirmedForeignNational  Cured  Deaths  Confirmed  \n",
       "0                        0      0       0          1  \n",
       "1                        0      0       0          1  \n",
       "2                        0      0       0          2  \n",
       "3                        0      0       0          3  \n",
       "4                        0      0       0          3  "
      ]
     },
     "execution_count": 2,
     "metadata": {},
     "output_type": "execute_result"
    }
   ],
   "source": [
    "import pandas as pd\n",
    "\n",
    "df = pd.read_csv(\"from_first_case_till_date.csv\")\n",
    "df.head()\n"
   ]
  },
  {
   "cell_type": "code",
   "execution_count": 17,
   "metadata": {},
   "outputs": [
    {
     "data": {
      "text/html": [
       "<div>\n",
       "<style scoped>\n",
       "    .dataframe tbody tr th:only-of-type {\n",
       "        vertical-align: middle;\n",
       "    }\n",
       "\n",
       "    .dataframe tbody tr th {\n",
       "        vertical-align: top;\n",
       "    }\n",
       "\n",
       "    .dataframe thead th {\n",
       "        text-align: right;\n",
       "    }\n",
       "</style>\n",
       "<table border=\"1\" class=\"dataframe\">\n",
       "  <thead>\n",
       "    <tr style=\"text-align: right;\">\n",
       "      <th></th>\n",
       "      <th>Country</th>\n",
       "      <th>Continent</th>\n",
       "      <th>Country.1</th>\n",
       "      <th>Date</th>\n",
       "      <th>Total_Cases</th>\n",
       "      <th>New_Cases</th>\n",
       "    </tr>\n",
       "  </thead>\n",
       "  <tbody>\n",
       "    <tr>\n",
       "      <th>0</th>\n",
       "      <td>IND</td>\n",
       "      <td>Asia</td>\n",
       "      <td>India</td>\n",
       "      <td>31-12-2019</td>\n",
       "      <td>NaN</td>\n",
       "      <td>0.0</td>\n",
       "    </tr>\n",
       "    <tr>\n",
       "      <th>1</th>\n",
       "      <td>IND</td>\n",
       "      <td>Asia</td>\n",
       "      <td>India</td>\n",
       "      <td>01-01-2020</td>\n",
       "      <td>NaN</td>\n",
       "      <td>0.0</td>\n",
       "    </tr>\n",
       "    <tr>\n",
       "      <th>2</th>\n",
       "      <td>IND</td>\n",
       "      <td>Asia</td>\n",
       "      <td>India</td>\n",
       "      <td>02-01-2020</td>\n",
       "      <td>NaN</td>\n",
       "      <td>0.0</td>\n",
       "    </tr>\n",
       "    <tr>\n",
       "      <th>3</th>\n",
       "      <td>IND</td>\n",
       "      <td>Asia</td>\n",
       "      <td>India</td>\n",
       "      <td>03-01-2020</td>\n",
       "      <td>NaN</td>\n",
       "      <td>0.0</td>\n",
       "    </tr>\n",
       "    <tr>\n",
       "      <th>4</th>\n",
       "      <td>IND</td>\n",
       "      <td>Asia</td>\n",
       "      <td>India</td>\n",
       "      <td>04-01-2020</td>\n",
       "      <td>NaN</td>\n",
       "      <td>0.0</td>\n",
       "    </tr>\n",
       "  </tbody>\n",
       "</table>\n",
       "</div>"
      ],
      "text/plain": [
       "  Country Continent Country.1        Date  Total_Cases  New_Cases\n",
       "0     IND      Asia     India  31-12-2019          NaN        0.0\n",
       "1     IND      Asia     India  01-01-2020          NaN        0.0\n",
       "2     IND      Asia     India  02-01-2020          NaN        0.0\n",
       "3     IND      Asia     India  03-01-2020          NaN        0.0\n",
       "4     IND      Asia     India  04-01-2020          NaN        0.0"
      ]
     },
     "execution_count": 17,
     "metadata": {},
     "output_type": "execute_result"
    }
   ],
   "source": [
    "import pandas as pd\n",
    "\n",
    "df = pd.read_csv(\"From First case till date.csv\")\n",
    "df.head()"
   ]
  },
  {
   "cell_type": "code",
   "execution_count": 18,
   "metadata": {},
   "outputs": [
    {
     "data": {
      "text/html": [
       "<div>\n",
       "<style scoped>\n",
       "    .dataframe tbody tr th:only-of-type {\n",
       "        vertical-align: middle;\n",
       "    }\n",
       "\n",
       "    .dataframe tbody tr th {\n",
       "        vertical-align: top;\n",
       "    }\n",
       "\n",
       "    .dataframe thead th {\n",
       "        text-align: right;\n",
       "    }\n",
       "</style>\n",
       "<table border=\"1\" class=\"dataframe\">\n",
       "  <thead>\n",
       "    <tr style=\"text-align: right;\">\n",
       "      <th></th>\n",
       "      <th>Country</th>\n",
       "      <th>Continent</th>\n",
       "      <th>Country.1</th>\n",
       "      <th>Date</th>\n",
       "      <th>Total_Cases</th>\n",
       "      <th>New_Cases</th>\n",
       "    </tr>\n",
       "  </thead>\n",
       "  <tbody>\n",
       "    <tr>\n",
       "      <th>0</th>\n",
       "      <td>IND</td>\n",
       "      <td>Asia</td>\n",
       "      <td>India</td>\n",
       "      <td>30-01-2020</td>\n",
       "      <td>1.0</td>\n",
       "      <td>1.0</td>\n",
       "    </tr>\n",
       "    <tr>\n",
       "      <th>1</th>\n",
       "      <td>IND</td>\n",
       "      <td>Asia</td>\n",
       "      <td>India</td>\n",
       "      <td>31-01-2020</td>\n",
       "      <td>1.0</td>\n",
       "      <td>0.0</td>\n",
       "    </tr>\n",
       "    <tr>\n",
       "      <th>2</th>\n",
       "      <td>IND</td>\n",
       "      <td>Asia</td>\n",
       "      <td>India</td>\n",
       "      <td>01-02-2020</td>\n",
       "      <td>1.0</td>\n",
       "      <td>0.0</td>\n",
       "    </tr>\n",
       "    <tr>\n",
       "      <th>3</th>\n",
       "      <td>IND</td>\n",
       "      <td>Asia</td>\n",
       "      <td>India</td>\n",
       "      <td>02-02-2020</td>\n",
       "      <td>2.0</td>\n",
       "      <td>1.0</td>\n",
       "    </tr>\n",
       "    <tr>\n",
       "      <th>4</th>\n",
       "      <td>IND</td>\n",
       "      <td>Asia</td>\n",
       "      <td>India</td>\n",
       "      <td>03-02-2020</td>\n",
       "      <td>2.0</td>\n",
       "      <td>0.0</td>\n",
       "    </tr>\n",
       "  </tbody>\n",
       "</table>\n",
       "</div>"
      ],
      "text/plain": [
       "  Country Continent Country.1        Date  Total_Cases  New_Cases\n",
       "0     IND      Asia     India  30-01-2020          1.0        1.0\n",
       "1     IND      Asia     India  31-01-2020          1.0        0.0\n",
       "2     IND      Asia     India  01-02-2020          1.0        0.0\n",
       "3     IND      Asia     India  02-02-2020          2.0        1.0\n",
       "4     IND      Asia     India  03-02-2020          2.0        0.0"
      ]
     },
     "execution_count": 18,
     "metadata": {},
     "output_type": "execute_result"
    }
   ],
   "source": [
    "import pandas as pd\n",
    "\n",
    "df = pd.read_csv(\"From First case till date.csv\")\n",
    "df.head()"
   ]
  },
  {
   "cell_type": "code",
   "execution_count": 20,
   "metadata": {},
   "outputs": [
    {
     "name": "stdout",
     "output_type": "stream",
     "text": [
      "28973.48120300752\n"
     ]
    }
   ],
   "source": [
    "average = df['New_Cases'].mean()\n",
    "print(average)"
   ]
  },
  {
   "cell_type": "code",
   "execution_count": 21,
   "metadata": {},
   "outputs": [
    {
     "name": "stdout",
     "output_type": "stream",
     "text": [
      "32630.75995474475\n"
     ]
    }
   ],
   "source": [
    "standard_deviation = df['New_Cases'].std()\n",
    "print(standard_deviation)"
   ]
  },
  {
   "cell_type": "code",
   "execution_count": 22,
   "metadata": {},
   "outputs": [
    {
     "name": "stdout",
     "output_type": "stream",
     "text": [
      "97894.0\n"
     ]
    }
   ],
   "source": [
    "print(df['New_Cases'].max())"
   ]
  },
  {
   "cell_type": "code",
   "execution_count": 23,
   "metadata": {},
   "outputs": [
    {
     "data": {
      "text/plain": [
       "'17-09-2020'"
      ]
     },
     "execution_count": 23,
     "metadata": {},
     "output_type": "execute_result"
    }
   ],
   "source": [
    "df.loc[df['New_Cases'] == 97894 , 'Date'].iloc[0]"
   ]
  },
  {
   "cell_type": "code",
   "execution_count": 24,
   "metadata": {},
   "outputs": [
    {
     "name": "stdout",
     "output_type": "stream",
     "text": [
      "10331.5\n"
     ]
    }
   ],
   "source": [
    "average = df['New_Cases'].median()\n",
    "print(average)"
   ]
  },
  {
   "cell_type": "code",
   "execution_count": 28,
   "metadata": {},
   "outputs": [
    {
     "data": {
      "text/plain": [
       "68920.52"
      ]
     },
     "execution_count": 28,
     "metadata": {},
     "output_type": "execute_result"
    }
   ],
   "source": [
    "97894-28973.48"
   ]
  },
  {
   "cell_type": "code",
   "execution_count": 1,
   "metadata": {},
   "outputs": [
    {
     "data": {
      "text/html": [
       "<div>\n",
       "<style scoped>\n",
       "    .dataframe tbody tr th:only-of-type {\n",
       "        vertical-align: middle;\n",
       "    }\n",
       "\n",
       "    .dataframe tbody tr th {\n",
       "        vertical-align: top;\n",
       "    }\n",
       "\n",
       "    .dataframe thead th {\n",
       "        text-align: right;\n",
       "    }\n",
       "</style>\n",
       "<table border=\"1\" class=\"dataframe\">\n",
       "  <thead>\n",
       "    <tr style=\"text-align: right;\">\n",
       "      <th></th>\n",
       "      <th>Month</th>\n",
       "      <th>ConfirmedCases</th>\n",
       "      <th>newly confirmed cases</th>\n",
       "      <th>avg per day</th>\n",
       "    </tr>\n",
       "  </thead>\n",
       "  <tbody>\n",
       "    <tr>\n",
       "      <th>0</th>\n",
       "      <td>Jan-31</td>\n",
       "      <td>5.0</td>\n",
       "      <td>5.0</td>\n",
       "      <td>0.161290</td>\n",
       "    </tr>\n",
       "    <tr>\n",
       "      <th>1</th>\n",
       "      <td>Feb-29</td>\n",
       "      <td>7.0</td>\n",
       "      <td>2.0</td>\n",
       "      <td>0.172414</td>\n",
       "    </tr>\n",
       "    <tr>\n",
       "      <th>2</th>\n",
       "      <td>Mar-31</td>\n",
       "      <td>1251.0</td>\n",
       "      <td>1244.0</td>\n",
       "      <td>40.129032</td>\n",
       "    </tr>\n",
       "    <tr>\n",
       "      <th>3</th>\n",
       "      <td>Apr-30</td>\n",
       "      <td>33050.0</td>\n",
       "      <td>31799.0</td>\n",
       "      <td>1059.966667</td>\n",
       "    </tr>\n",
       "    <tr>\n",
       "      <th>4</th>\n",
       "      <td>May-31</td>\n",
       "      <td>182143.0</td>\n",
       "      <td>149093.0</td>\n",
       "      <td>4809.451613</td>\n",
       "    </tr>\n",
       "  </tbody>\n",
       "</table>\n",
       "</div>"
      ],
      "text/plain": [
       "    Month  ConfirmedCases  newly confirmed cases  avg per day\n",
       "0  Jan-31             5.0                    5.0     0.161290\n",
       "1  Feb-29             7.0                    2.0     0.172414\n",
       "2  Mar-31          1251.0                 1244.0    40.129032\n",
       "3  Apr-30         33050.0                31799.0  1059.966667\n",
       "4  May-31        182143.0               149093.0  4809.451613"
      ]
     },
     "execution_count": 1,
     "metadata": {},
     "output_type": "execute_result"
    }
   ],
   "source": [
    "import pandas as pd\n",
    "\n",
    "df = pd.read_csv(\"avg_per_month.csv\")\n",
    "df.head()"
   ]
  },
  {
   "cell_type": "code",
   "execution_count": 2,
   "metadata": {},
   "outputs": [
    {
     "data": {
      "text/plain": [
       "1912766.55"
      ]
     },
     "execution_count": 2,
     "metadata": {},
     "output_type": "execute_result"
    }
   ],
   "source": [
    "2604518 - 691751.45"
   ]
  },
  {
   "cell_type": "code",
   "execution_count": 3,
   "metadata": {},
   "outputs": [
    {
     "name": "stdout",
     "output_type": "stream",
     "text": [
      "149093.0\n"
     ]
    }
   ],
   "source": [
    "average = df['newly confirmed cases'].median()\n",
    "print(average)"
   ]
  },
  {
   "cell_type": "code",
   "execution_count": 4,
   "metadata": {},
   "outputs": [
    {
     "data": {
      "text/html": [
       "<div>\n",
       "<style scoped>\n",
       "    .dataframe tbody tr th:only-of-type {\n",
       "        vertical-align: middle;\n",
       "    }\n",
       "\n",
       "    .dataframe tbody tr th {\n",
       "        vertical-align: top;\n",
       "    }\n",
       "\n",
       "    .dataframe thead th {\n",
       "        text-align: right;\n",
       "    }\n",
       "</style>\n",
       "<table border=\"1\" class=\"dataframe\">\n",
       "  <thead>\n",
       "    <tr style=\"text-align: right;\">\n",
       "      <th></th>\n",
       "      <th>Country</th>\n",
       "      <th>Continent</th>\n",
       "      <th>Country.1</th>\n",
       "      <th>Date</th>\n",
       "      <th>Total_Cases</th>\n",
       "      <th>New_Cases</th>\n",
       "    </tr>\n",
       "  </thead>\n",
       "  <tbody>\n",
       "    <tr>\n",
       "      <th>0</th>\n",
       "      <td>IND</td>\n",
       "      <td>Asia</td>\n",
       "      <td>India</td>\n",
       "      <td>30-01-2020</td>\n",
       "      <td>1.0</td>\n",
       "      <td>1.0</td>\n",
       "    </tr>\n",
       "    <tr>\n",
       "      <th>1</th>\n",
       "      <td>IND</td>\n",
       "      <td>Asia</td>\n",
       "      <td>India</td>\n",
       "      <td>31-01-2020</td>\n",
       "      <td>1.0</td>\n",
       "      <td>0.0</td>\n",
       "    </tr>\n",
       "    <tr>\n",
       "      <th>2</th>\n",
       "      <td>IND</td>\n",
       "      <td>Asia</td>\n",
       "      <td>India</td>\n",
       "      <td>01-02-2020</td>\n",
       "      <td>1.0</td>\n",
       "      <td>0.0</td>\n",
       "    </tr>\n",
       "    <tr>\n",
       "      <th>3</th>\n",
       "      <td>IND</td>\n",
       "      <td>Asia</td>\n",
       "      <td>India</td>\n",
       "      <td>02-02-2020</td>\n",
       "      <td>2.0</td>\n",
       "      <td>1.0</td>\n",
       "    </tr>\n",
       "    <tr>\n",
       "      <th>4</th>\n",
       "      <td>IND</td>\n",
       "      <td>Asia</td>\n",
       "      <td>India</td>\n",
       "      <td>03-02-2020</td>\n",
       "      <td>2.0</td>\n",
       "      <td>0.0</td>\n",
       "    </tr>\n",
       "  </tbody>\n",
       "</table>\n",
       "</div>"
      ],
      "text/plain": [
       "  Country Continent Country.1        Date  Total_Cases  New_Cases\n",
       "0     IND      Asia     India  30-01-2020          1.0        1.0\n",
       "1     IND      Asia     India  31-01-2020          1.0        0.0\n",
       "2     IND      Asia     India  01-02-2020          1.0        0.0\n",
       "3     IND      Asia     India  02-02-2020          2.0        1.0\n",
       "4     IND      Asia     India  03-02-2020          2.0        0.0"
      ]
     },
     "execution_count": 4,
     "metadata": {},
     "output_type": "execute_result"
    }
   ],
   "source": [
    "import pandas as pd\n",
    "\n",
    "df = pd.read_csv(\"From First case till date.csv\")\n",
    "df.head()"
   ]
  },
  {
   "cell_type": "code",
   "execution_count": 5,
   "metadata": {},
   "outputs": [
    {
     "data": {
      "text/html": [
       "<div>\n",
       "<style scoped>\n",
       "    .dataframe tbody tr th:only-of-type {\n",
       "        vertical-align: middle;\n",
       "    }\n",
       "\n",
       "    .dataframe tbody tr th {\n",
       "        vertical-align: top;\n",
       "    }\n",
       "\n",
       "    .dataframe thead th {\n",
       "        text-align: right;\n",
       "    }\n",
       "</style>\n",
       "<table border=\"1\" class=\"dataframe\">\n",
       "  <thead>\n",
       "    <tr style=\"text-align: right;\">\n",
       "      <th></th>\n",
       "      <th>Country</th>\n",
       "      <th>Continent</th>\n",
       "      <th>Country.1</th>\n",
       "      <th>Date</th>\n",
       "      <th>Total_Cases</th>\n",
       "      <th>New_Cases</th>\n",
       "      <th>range</th>\n",
       "    </tr>\n",
       "  </thead>\n",
       "  <tbody>\n",
       "    <tr>\n",
       "      <th>0</th>\n",
       "      <td>IND</td>\n",
       "      <td>Asia</td>\n",
       "      <td>India</td>\n",
       "      <td>30-01-2020</td>\n",
       "      <td>1.0</td>\n",
       "      <td>1.0</td>\n",
       "      <td>&lt;10000</td>\n",
       "    </tr>\n",
       "    <tr>\n",
       "      <th>1</th>\n",
       "      <td>IND</td>\n",
       "      <td>Asia</td>\n",
       "      <td>India</td>\n",
       "      <td>31-01-2020</td>\n",
       "      <td>1.0</td>\n",
       "      <td>0.0</td>\n",
       "      <td>&lt;10000</td>\n",
       "    </tr>\n",
       "    <tr>\n",
       "      <th>2</th>\n",
       "      <td>IND</td>\n",
       "      <td>Asia</td>\n",
       "      <td>India</td>\n",
       "      <td>01-02-2020</td>\n",
       "      <td>1.0</td>\n",
       "      <td>0.0</td>\n",
       "      <td>&lt;10000</td>\n",
       "    </tr>\n",
       "    <tr>\n",
       "      <th>3</th>\n",
       "      <td>IND</td>\n",
       "      <td>Asia</td>\n",
       "      <td>India</td>\n",
       "      <td>02-02-2020</td>\n",
       "      <td>2.0</td>\n",
       "      <td>1.0</td>\n",
       "      <td>&lt;10000</td>\n",
       "    </tr>\n",
       "    <tr>\n",
       "      <th>4</th>\n",
       "      <td>IND</td>\n",
       "      <td>Asia</td>\n",
       "      <td>India</td>\n",
       "      <td>03-02-2020</td>\n",
       "      <td>2.0</td>\n",
       "      <td>0.0</td>\n",
       "      <td>&lt;10000</td>\n",
       "    </tr>\n",
       "  </tbody>\n",
       "</table>\n",
       "</div>"
      ],
      "text/plain": [
       "  Country Continent Country.1        Date  Total_Cases  New_Cases   range\n",
       "0     IND      Asia     India  30-01-2020          1.0        1.0  <10000\n",
       "1     IND      Asia     India  31-01-2020          1.0        0.0  <10000\n",
       "2     IND      Asia     India  01-02-2020          1.0        0.0  <10000\n",
       "3     IND      Asia     India  02-02-2020          2.0        1.0  <10000\n",
       "4     IND      Asia     India  03-02-2020          2.0        0.0  <10000"
      ]
     },
     "execution_count": 5,
     "metadata": {},
     "output_type": "execute_result"
    }
   ],
   "source": [
    "import pandas as pd\n",
    "\n",
    "df = pd.read_csv(\"From First case till date.csv\")\n",
    "df.head()"
   ]
  },
  {
   "cell_type": "code",
   "execution_count": 7,
   "metadata": {},
   "outputs": [
    {
     "data": {
      "text/plain": [
       "<AxesSubplot:ylabel='range'>"
      ]
     },
     "execution_count": 7,
     "metadata": {},
     "output_type": "execute_result"
    },
    {
     "data": {
      "image/png": "[encoded data removed]",
      "text/plain": [
       "<Figure size 720x720 with 1 Axes>"
      ]
     },
     "metadata": {},
     "output_type": "display_data"
    }
   ],
   "source": [
    "type_counts = df['range'].value_counts()\n",
    "df2 = pd.DataFrame({'range': type_counts}, \n",
    "                     index = ['<10000', '<30000', '<50000','<100000']\n",
    "                   )\n",
    "df2.plot.pie(y='range', figsize=(10,10), autopct='%1.1f%%')"
   ]
  },
  {
   "cell_type": "code",
   "execution_count": null,
   "metadata": {},
   "outputs": [],
   "source": []
  }
 ],
 "metadata": {
  "kernelspec": {
   "display_name": "Python 3",
   "language": "python",
   "name": "python3"
  },
  "language_info": {
   "codemirror_mode": {
    "name": "ipython",
    "version": 3
   },
   "file_extension": ".py",
   "mimetype": "text/x-python",
   "name": "python",
   "nbconvert_exporter": "python",
   "pygments_lexer": "ipython3",
   "version": "3.8.6"
  }
 },
 "nbformat": 4,
 "nbformat_minor": 4
}
